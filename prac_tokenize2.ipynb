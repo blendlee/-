{
 "cells": [
  {
   "cell_type": "code",
   "execution_count": 1,
   "id": "db627731-4567-468d-ad81-c1d11840c5c4",
   "metadata": {},
   "outputs": [],
   "source": [
    "from transformers import AutoTokenizer, AutoConfig, AutoModelForSequenceClassification, Trainer, TrainingArguments, RobertaConfig, RobertaTokenizer, RobertaForSequenceClassification, BertTokenizer, set_seed\n",
    "from tokenizers import BertWordPieceTokenizer\n",
    "from transformers import ElectraModel, ElectraConfig,ElectraTokenizer\n",
    "from sklearn.metrics import accuracy_score\n",
    "from torch.utils.data import DataLoader\n",
    "from model import *\n",
    "from dataset import *\n",
    "import wandb\n",
    "import sklearn\n",
    "import numpy as np\n",
    "import pandas as pd\n",
    "import torch"
   ]
  },
  {
   "cell_type": "code",
   "execution_count": 2,
   "id": "83838d3c-c05b-4de9-a688-87bdaf7af737",
   "metadata": {
    "tags": []
   },
   "outputs": [
    {
     "name": "stderr",
     "output_type": "stream",
     "text": [
      "/opt/ml/news_classification/dataset.py:45: SettingWithCopyWarning: \n",
      "A value is trying to be set on a copy of a slice from a DataFrame\n",
      "\n",
      "See the caveats in the documentation: https://pandas.pydata.org/pandas-docs/stable/user_guide/indexing.html#returning-a-view-versus-a-copy\n",
      "  dataset['text'][i]=review\n"
     ]
    }
   ],
   "source": [
    "datadir='/opt/ml/news_classification/data/train.csv'\n",
    "tokenizer = ElectraTokenizer('/opt/ml/news_classification/vocabs.txt')\n",
    "dataset = load_data(datadir)"
   ]
  },
  {
   "cell_type": "code",
   "execution_count": 3,
   "id": "b1561a6e-d64c-4a64-aa30-47d7299ec8fd",
   "metadata": {},
   "outputs": [],
   "source": [
    "train_data,val_data = split_data(dataset)\n",
    "train_data = train_data.reset_index()\n",
    "train_text = train_data['text']\n"
   ]
  },
  {
   "cell_type": "code",
   "execution_count": 9,
   "id": "199eda99-5101-4004-a12a-4238ab5255b5",
   "metadata": {},
   "outputs": [],
   "source": [
    "tokenized_train = tokenized_dataset(train_text,tokenizer,256,huggingface=True)"
   ]
  },
  {
   "cell_type": "code",
   "execution_count": 10,
   "id": "19c7ca10-1bfa-4978-a5fa-a9befd629968",
   "metadata": {},
   "outputs": [
    {
     "data": {
      "text/plain": [
       "{'input_ids': tensor([[  2, 338, 234,  ...,   0,   0,   0],\n",
       "        [  2,  15,  50,  ...,   0,   0,   0],\n",
       "        [  2,  32, 114,  ..., 272, 488,   3],\n",
       "        ...,\n",
       "        [  2, 207, 825,  ...,   0,   0,   0],\n",
       "        [  2,  16, 156,  ...,   0,   0,   0],\n",
       "        [  2, 236,  14,  ...,   0,   0,   0]]), 'token_type_ids': tensor([[0, 0, 0,  ..., 0, 0, 0],\n",
       "        [0, 0, 0,  ..., 0, 0, 0],\n",
       "        [0, 0, 0,  ..., 0, 0, 0],\n",
       "        ...,\n",
       "        [0, 0, 0,  ..., 0, 0, 0],\n",
       "        [0, 0, 0,  ..., 0, 0, 0],\n",
       "        [0, 0, 0,  ..., 0, 0, 0]]), 'attention_mask': tensor([[1, 1, 1,  ..., 0, 0, 0],\n",
       "        [1, 1, 1,  ..., 0, 0, 0],\n",
       "        [1, 1, 1,  ..., 1, 1, 1],\n",
       "        ...,\n",
       "        [1, 1, 1,  ..., 0, 0, 0],\n",
       "        [1, 1, 1,  ..., 0, 0, 0],\n",
       "        [1, 1, 1,  ..., 0, 0, 0]])}"
      ]
     },
     "execution_count": 10,
     "metadata": {},
     "output_type": "execute_result"
    }
   ],
   "source": [
    "tokenized_train"
   ]
  },
  {
   "cell_type": "code",
   "execution_count": 8,
   "id": "718f7234-b944-456c-a499-d82ad55b7bb9",
   "metadata": {},
   "outputs": [
    {
     "data": {
      "text/plain": [
       "0       thanks jon i had forgotten about the and invas...\n",
       "1       hi therei wonder if anyone knows and can recom...\n",
       "2       yetim not bored either most people i know say ...\n",
       "3       could someone tell me if the ati graphic ultra...\n",
       "4       dream machine quality aint what it used to bek...\n",
       "                              ...                        \n",
       "7381    from article <aprnewsgatespsmotcom by markmbig...\n",
       "7382    can anybody out there provide me with any advi...\n",
       "7383    deletia wrt pathetic jeezus posting by bissel ...\n",
       "7384    i have the same problem with my probe the wate...\n",
       "7385    my girlfriend is a smoker she has been addicte...\n",
       "Name: text, Length: 7386, dtype: object"
      ]
     },
     "execution_count": 8,
     "metadata": {},
     "output_type": "execute_result"
    }
   ],
   "source": []
  },
  {
   "cell_type": "code",
   "execution_count": null,
   "id": "3fafb5f9-848a-4770-865b-d2710e15f9da",
   "metadata": {},
   "outputs": [],
   "source": []
  }
 ],
 "metadata": {
  "kernelspec": {
   "display_name": "Python 3 (ipykernel)",
   "language": "python",
   "name": "python3"
  },
  "language_info": {
   "codemirror_mode": {
    "name": "ipython",
    "version": 3
   },
   "file_extension": ".py",
   "mimetype": "text/x-python",
   "name": "python",
   "nbconvert_exporter": "python",
   "pygments_lexer": "ipython3",
   "version": "3.8.5"
  }
 },
 "nbformat": 4,
 "nbformat_minor": 5
}
